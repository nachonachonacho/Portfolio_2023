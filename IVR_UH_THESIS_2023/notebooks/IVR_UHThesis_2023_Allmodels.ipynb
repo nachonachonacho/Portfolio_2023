Optimization terminated successfully.
         Current function value: 0.253495
         Iterations 8
                           Logit Regression Results                           
==============================================================================
Dep. Variable:                VotedPS   No. Observations:                 1052
Model:                          Logit   Df Residuals:                     1036
Method:                           MLE   Df Model:                           15
Date:                Wed, 12 Apr 2023   Pseudo R-squ.:                  0.2973
Time:                        10:04:09   Log-Likelihood:                -266.68
converged:                       True   LL-Null:                       -379.50
Covariance Type:            nonrobust   LLR p-value:                 1.243e-39
==================================================================================================
                                     coef    std err          z      P>|z|      [0.025      0.975]
--------------------------------------------------------------------------------------------------
const                             -7.6058      3.153     -2.412      0.016     -13.786      -1.425
EducationYears                    -0.0713      0.034     -2.080      0.038      -0.139      -0.004
Gender_M                           0.3536      0.244      1.449      0.147      -0.125       0.832
Age                               -0.0149      0.009     -1.755      0.079      -0.032       0.002
National_attachment                0.0376      0.100      0.375      0.708      -0.159       0.234
LeftRightScale                     0.1372      0.056      2.429      0.015       0.027       0.248
Authoritarian Values              -0.0078      0.009     -0.865      0.387      -0.026       0.010
Trust In National Institutions    -0.0146      0.009     -1.591      0.112      -0.032       0.003
AntiImmigrationScale               0.0940      0.026      3.637      0.000       0.043       0.145
EconomicImpactImmigration         -0.0828      0.207     -0.400      0.689      -0.489       0.323
CulturalImpactImmigration          0.5139      0.242      2.121      0.034       0.039       0.989
EconomySatisfaction                0.0202      0.082      0.246      0.805      -0.140       0.181
SubjectiveEconomicInsecurity       0.9393      0.704      1.334      0.182      -0.440       2.319
WelfareDependent                  -0.7039      0.325     -2.165      0.030      -1.341      -0.067
Interaction_1                      0.0945      0.089      1.063      0.288      -0.080       0.269
Interaction_2                     -0.1816      0.106     -1.708      0.088      -0.390       0.027
==================================================================================================
|    | Variable                       |   Coeff |    OR |      t |     p | %CI            |
|---:|:-------------------------------|--------:|------:|-------:|------:|:---------------|
|  0 | const                          |  -7.606 | 0     | -2.412 | 0.016 | -13.79 - -1.43 |
|  1 | EducationYears                 |  -0.071 | 0.931 | -2.08  | 0.038 | -0.14 - -0.00  |
|  2 | Gender_M                       |   0.354 | 1.424 |  1.449 | 0.147 | -0.12 - 0.83   |
|  3 | Age                            |  -0.015 | 0.985 | -1.755 | 0.079 | -0.03 - 0.00   |
|  4 | National_attachment            |   0.038 | 1.038 |  0.375 | 0.708 | -0.16 - 0.23   |
|  5 | LeftRightScale                 |   0.137 | 1.147 |  2.429 | 0.015 | 0.03 - 0.25    |
|  6 | Authoritarian Values           |  -0.008 | 0.992 | -0.865 | 0.387 | -0.03 - 0.01   |
|  7 | Trust In National Institutions |  -0.015 | 0.986 | -1.591 | 0.112 | -0.03 - 0.00   |
|  8 | AntiImmigrationScale           |   0.094 | 1.099 |  3.637 | 0     | 0.04 - 0.14    |
|  9 | EconomicImpactImmigration      |  -0.083 | 0.921 | -0.4   | 0.689 | -0.49 - 0.32   |
| 10 | CulturalImpactImmigration      |   0.514 | 1.672 |  2.121 | 0.034 | 0.04 - 0.99    |
| 11 | EconomySatisfaction            |   0.02  | 1.02  |  0.246 | 0.805 | -0.14 - 0.18   |
| 12 | SubjectiveEconomicInsecurity   |   0.939 | 2.558 |  1.334 | 0.182 | -0.44 - 2.32   |
| 13 | WelfareDependent               |  -0.704 | 0.495 | -2.165 | 0.03  | -1.34 - -0.07  |
| 14 | Interaction_1                  |   0.095 | 1.099 |  1.063 | 0.288 | -0.08 - 0.27   |
| 15 | Interaction_2                  |  -0.182 | 0.834 | -1.708 | 0.088 | -0.39 - 0.03   |
