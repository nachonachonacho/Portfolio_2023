{
 "cells": [
  {
   "cell_type": "code",
   "execution_count": null,
   "metadata": {},
   "outputs": [],
   "source": [
    "import pandas as pd\n",
    "import matplotlib.pyplot as plt\n",
    "import seaborn as sns\n",
    "woltdata = pd.read_csv(\"C:/Users/innac/Desktop/VSCodeDesktop/.venv/dataset_for_analyst_assignment_20201120.csv\")\n"
   ]
  },
  {
   "attachments": {},
   "cell_type": "markdown",
   "metadata": {},
   "source": [
    "Exploratory and Descriptive Analysis\n"
   ]
  },
  {
   "cell_type": "code",
   "execution_count": 3,
   "metadata": {},
   "outputs": [
    {
     "name": "stdout",
     "output_type": "stream",
     "text": [
      "(21983, 30)\n",
      "REGISTRATION_DATE                           object\n",
      "REGISTRATION_COUNTRY                        object\n",
      "PURCHASE_COUNT                               int64\n",
      "PURCHASE_COUNT_DELIVERY                    float64\n",
      "PURCHASE_COUNT_TAKEAWAY                    float64\n",
      "FIRST_PURCHASE_DAY                          object\n",
      "LAST_PURCHASE_DAY                           object\n",
      "USER_ID                                      int64\n",
      "BREAKFAST_PURCHASES                        float64\n",
      "LUNCH_PURCHASES                            float64\n",
      "EVENING_PURCHASES                          float64\n",
      "DINNER_PURCHASES                           float64\n",
      "LATE_NIGHT_PURCHASES                       float64\n",
      "TOTAL_PURCHASES_EUR                        float64\n",
      "DISTINCT_PURCHASE_VENUE_COUNT              float64\n",
      "MIN_PURCHASE_VALUE_EUR                     float64\n",
      "MAX_PURCHASE_VALUE_EUR                     float64\n",
      "AVG_PURCHASE_VALUE_EUR                     float64\n",
      "PREFERRED_DEVICE                            object\n",
      "IOS_PURCHASES                              float64\n",
      "WEB_PURCHASES                              float64\n",
      "ANDROID_PURCHASES                          float64\n",
      "PREFERRED_RESTAURANT_TYPES                  object\n",
      "USER_HAS_VALID_PAYMENT_METHOD                 bool\n",
      "MOST_COMMON_HOUR_OF_THE_DAY_TO_PURCHASE    float64\n",
      "MOST_COMMON_WEEKDAY_TO_PURCHASE            float64\n",
      "AVG_DAYS_BETWEEN_PURCHASES                 float64\n",
      "MEDIAN_DAYS_BETWEEN_PURCHASES              float64\n",
      "AVERAGE_DELIVERY_DISTANCE_KMS              float64\n",
      "PURCHASE_COUNT_BY_STORE_TYPE                object\n",
      "dtype: object\n",
      "       PURCHASE_COUNT  PURCHASE_COUNT_DELIVERY  PURCHASE_COUNT_TAKEAWAY  \\\n",
      "count    21983.000000             12028.000000             12028.000000   \n",
      "mean         3.345358                 5.741686                 0.372464   \n",
      "std          8.523171                10.536220                 1.416310   \n",
      "min          0.000000                 0.000000                 0.000000   \n",
      "25%          0.000000                 1.000000                 0.000000   \n",
      "50%          1.000000                 2.000000                 0.000000   \n",
      "75%          3.000000                 6.000000                 0.000000   \n",
      "max        320.000000               320.000000                44.000000   \n",
      "\n",
      "           USER_ID  BREAKFAST_PURCHASES  LUNCH_PURCHASES  EVENING_PURCHASES  \\\n",
      "count  21983.00000         12028.000000     12028.000000       12028.000000   \n",
      "mean   10992.00000             0.193964         2.375042           0.493432   \n",
      "std     6346.08982             1.104067         5.626178           1.827710   \n",
      "min        1.00000             0.000000         0.000000           0.000000   \n",
      "25%     5496.50000             0.000000         0.000000           0.000000   \n",
      "50%    10992.00000             0.000000         1.000000           0.000000   \n",
      "75%    16487.50000             0.000000         2.000000           0.000000   \n",
      "max    21983.00000            52.000000       171.000000          71.000000   \n",
      "\n",
      "       DINNER_PURCHASES  LATE_NIGHT_PURCHASES  TOTAL_PURCHASES_EUR  ...  \\\n",
      "count      12028.000000               12028.0         12028.000000  ...   \n",
      "mean           3.029016                   0.0           176.210419  ...   \n",
      "std            5.238209                   0.0           299.086986  ...   \n",
      "min            0.000000                   0.0             1.012000  ...   \n",
      "25%            0.000000                   0.0            32.384000  ...   \n",
      "50%            1.000000                   0.0            75.900000  ...   \n",
      "75%            3.000000                   0.0           196.328000  ...   \n",
      "max          104.000000                   0.0          7979.620000  ...   \n",
      "\n",
      "       MAX_PURCHASE_VALUE_EUR  AVG_PURCHASE_VALUE_EUR  IOS_PURCHASES  \\\n",
      "count            12028.000000            12028.000000   12028.000000   \n",
      "mean                42.068043               31.195060       2.900482   \n",
      "std                 41.176221               20.716542       7.456288   \n",
      "min                  1.016000                1.012000       0.000000   \n",
      "25%                 23.368000               19.228000       0.000000   \n",
      "50%                 35.560000               27.324000       0.000000   \n",
      "75%                 51.816000               38.456000       2.000000   \n",
      "max               3048.000000              657.800000     200.000000   \n",
      "\n",
      "       WEB_PURCHASES  ANDROID_PURCHASES  \\\n",
      "count   12028.000000       12028.000000   \n",
      "mean        1.056535           2.157133   \n",
      "std         4.776431           6.876314   \n",
      "min         0.000000           0.000000   \n",
      "25%         0.000000           0.000000   \n",
      "50%         0.000000           0.000000   \n",
      "75%         1.000000           1.000000   \n",
      "max       196.000000         221.000000   \n",
      "\n",
      "       MOST_COMMON_HOUR_OF_THE_DAY_TO_PURCHASE  \\\n",
      "count                             12028.000000   \n",
      "mean                                 11.501995   \n",
      "std                                   6.930837   \n",
      "min                                   0.000000   \n",
      "25%                                   5.000000   \n",
      "50%                                  11.500000   \n",
      "75%                                  18.000000   \n",
      "max                                  23.000000   \n",
      "\n",
      "       MOST_COMMON_WEEKDAY_TO_PURCHASE  AVG_DAYS_BETWEEN_PURCHASES  \\\n",
      "count                     12028.000000                 7832.000000   \n",
      "mean                          4.010392                   64.293539   \n",
      "std                           2.010071                   72.570103   \n",
      "min                           1.000000                    0.000000   \n",
      "25%                           2.000000                   18.000000   \n",
      "50%                           4.000000                   39.500000   \n",
      "75%                           6.000000                   81.000000   \n",
      "max                           7.000000                  421.000000   \n",
      "\n",
      "       MEDIAN_DAYS_BETWEEN_PURCHASES  AVERAGE_DELIVERY_DISTANCE_KMS  \n",
      "count                    7832.000000                   12028.000000  \n",
      "mean                       55.792135                       5.961218  \n",
      "std                        74.963336                       3.466263  \n",
      "min                         0.000000                       0.002000  \n",
      "25%                        10.000000                       2.950500  \n",
      "50%                        25.000000                       5.928000  \n",
      "75%                        68.250000                       8.978000  \n",
      "max                       421.000000                      11.999000  \n",
      "\n",
      "[8 rows x 22 columns]\n"
     ]
    }
   ],
   "source": [
    "print(woltdata.shape)\n",
    "print(woltdata.dtypes)\n",
    "print(woltdata.describe())\n"
   ]
  },
  {
   "attachments": {},
   "cell_type": "markdown",
   "metadata": {},
   "source": [
    "Segmentation\n"
   ]
  },
  {
   "cell_type": "code",
   "execution_count": 6,
   "metadata": {},
   "outputs": [
    {
     "ename": "NameError",
     "evalue": "name 'df' is not defined",
     "output_type": "error",
     "traceback": [
      "\u001b[1;31m---------------------------------------------------------------------------\u001b[0m",
      "\u001b[1;31mNameError\u001b[0m                                 Traceback (most recent call last)",
      "Cell \u001b[1;32mIn[6], line 1\u001b[0m\n\u001b[1;32m----> 1\u001b[0m df\u001b[39m.\u001b[39mgroupby(\u001b[39m'\u001b[39m\u001b[39mPREFERRED_DEVICE\u001b[39m\u001b[39m'\u001b[39m)\u001b[39m.\u001b[39msize()\u001b[39m.\u001b[39mreset_index(name\u001b[39m=\u001b[39m\u001b[39m'\u001b[39m\u001b[39mcounts\u001b[39m\u001b[39m'\u001b[39m)\n",
      "\u001b[1;31mNameError\u001b[0m: name 'df' is not defined"
     ]
    }
   ],
   "source": [
    "\n"
   ]
  }
 ],
 "metadata": {
  "kernelspec": {
   "display_name": "env",
   "language": "python",
   "name": "python3"
  },
  "language_info": {
   "codemirror_mode": {
    "name": "ipython",
    "version": 3
   },
   "file_extension": ".py",
   "mimetype": "text/x-python",
   "name": "python",
   "nbconvert_exporter": "python",
   "pygments_lexer": "ipython3",
   "version": "3.11.2"
  },
  "orig_nbformat": 4,
  "vscode": {
   "interpreter": {
    "hash": "202004482039403c258e1541ece0f6b5dec5c1ca21c41da25cc92a660c1d72ab"
   }
  }
 },
 "nbformat": 4,
 "nbformat_minor": 2
}
