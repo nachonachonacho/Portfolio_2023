                                 OLS Regression Results                                
=======================================================================================
Dep. Variable:                    CAI   R-squared (uncentered):                   0.886
Model:                            OLS   Adj. R-squared (uncentered):              0.885
Method:                 Least Squares   F-statistic:                              639.3
Date:                Mon, 27 Mar 2023   Prob (F-statistic):                   4.42e-116
Time:                        23:06:34   Log-Likelihood:                         -444.42
No. Observations:                 250   AIC:                                      894.8
Df Residuals:                     247   BIC:                                      905.4
Df Model:                           3                                                  
Covariance Type:            nonrobust                                                  
==============================================================================
                 coef    std err          t      P>|t|      [0.025      0.975]
------------------------------------------------------------------------------
GI             0.3039      0.058      5.224      0.000       0.189       0.419
PercSexi       0.0708      0.116      0.611      0.542      -0.157       0.299
StiCon         0.4717      0.121      3.889      0.000       0.233       0.711
==============================================================================
Omnibus:                        1.488   Durbin-Watson:                   2.125
Prob(Omnibus):                  0.475   Jarque-Bera (JB):                1.339
Skew:                          -0.026   Prob(JB):                        0.512
Kurtosis:                       2.645   Cond. No.                         14.5
==============================================================================

Notes:
[1] R² is computed without centering (uncentered) since the model does not contain a constant.
[2] Standard Errors assume that the covariance matrix of the errors is correctly specified.
                            OLS Regression Results                            
==============================================================================
Dep. Variable:                    CAI   R-squared:                       0.033
Model:                            OLS   Adj. R-squared:                  0.025
Method:                 Least Squares   F-statistic:                     4.250
Date:                Mon, 27 Mar 2023   Prob (F-statistic):             0.0153
Time:                        23:06:34   Log-Likelihood:                -439.68
No. Observations:                 250   AIC:                             885.4
Df Residuals:                     247   BIC:                             895.9
Df Model:                           2                                         
Covariance Type:            nonrobust                                         
==============================================================================
                 coef    std err          t      P>|t|      [0.025      0.975]
------------------------------------------------------------------------------
const          2.5720      0.512      5.026      0.000       1.564       3.580
GI             0.1122      0.076      1.482      0.140      -0.037       0.261
PercSexi       0.1941      0.078      2.478      0.014       0.040       0.348
==============================================================================
Omnibus:                       10.726   Durbin-Watson:                   2.049
Prob(Omnibus):                  0.005   Jarque-Bera (JB):                5.000
Skew:                          -0.033   Prob(JB):                       0.0821
Kurtosis:                       2.310   Cond. No.                         39.3
==============================================================================

Notes:
[1] Standard Errors assume that the covariance matrix of the errors is correctly specified.
