{
 "cells": [
  {
   "cell_type": "code",
   "execution_count": 2,
   "metadata": {},
   "outputs": [
    {
     "name": "stdout",
     "output_type": "stream",
     "text": [
      "   CAI1  CAI2  CAI3  CAI4  PER_INJ  CONTENT  STRE  CAI5  CAI6  CAI7  ...  SC1  \\\n",
      "0   6.0   7.0   3.0   2.0      5.0      7.0   2.0   6.0   6.0   6.0  ...  5.0   \n",
      "1   2.0   7.0   1.0   1.0      5.0      5.0   5.0   4.0   4.0   5.0  ...  6.0   \n",
      "2   7.0   7.0   1.0   2.0      6.0      5.0   7.0   6.0   5.0   7.0  ...  6.0   \n",
      "3   7.0   7.0   4.0   4.0      5.0      6.0   6.0   5.0   4.0   5.0  ...  5.0   \n",
      "4   1.0   7.0   1.0   2.0      5.0      6.0   4.0   1.0   1.0   2.0  ...  5.0   \n",
      "\n",
      "   SC2  SC3  SC4  SC5  CAI  StiCon   GI  PercSexi  ster_con  \n",
      "0  4.0  4.0  5.0  4.0  5.4     4.4  4.5       4.0  4.666667  \n",
      "1  6.0  5.0  6.0  5.0  4.0     5.6  5.0       5.0  6.000000  \n",
      "2  7.0  5.0  4.0  7.0  5.3     5.8  6.0       6.0  5.666667  \n",
      "3  5.0  2.0  5.0  5.0  5.1     4.4  6.0       3.5  5.000000  \n",
      "4  2.0  5.0  4.0  3.0  1.9     3.8  5.0       4.0  3.666667  \n",
      "\n",
      "[5 rows x 26 columns]\n",
      "['CAI1', 'CAI2', 'CAI3', 'CAI4', 'PER_INJ', 'CONTENT', 'STRE', 'CAI5', 'CAI6', 'CAI7', 'CAI8', 'CAI9', 'CAI10', 'GENDER', 'AGE', 'NATIO', 'SC1', 'SC2', 'SC3', 'SC4', 'SC5', 'CAI', 'StiCon', 'GI', 'PercSexi', 'ster_con']\n"
     ]
    }
   ],
   "source": [
    "import pandas as pd\n",
    "import statsmodels.api as sm\n",
    "import pyreadstat\n",
    "\n",
    "# Read the .sav file into a Pandas DataFrame\n",
    "df, meta = pyreadstat.read_sav('C:/Users/innac/Desktop/VSCodeDesktop/Mira Projects/data/raw/MiraMaaloufThesis_Dataset.sav')\n",
    "\n",
    "\n",
    "\n",
    "# Print the first few rows of the DataFrame\n",
    "print(df.head())\n",
    "# Print column names as a list\n",
    "print(list(df.columns))\n",
    "\n",
    "df.dropna(inplace=True)"
   ]
  },
  {
   "cell_type": "code",
   "execution_count": 4,
   "metadata": {},
   "outputs": [
    {
     "name": "stdout",
     "output_type": "stream",
     "text": [
      "                                 OLS Regression Results                                \n",
      "=======================================================================================\n",
      "Dep. Variable:                    CAI   R-squared (uncentered):                   0.886\n",
      "Model:                            OLS   Adj. R-squared (uncentered):              0.885\n",
      "Method:                 Least Squares   F-statistic:                              639.3\n",
      "Date:                Mon, 27 Mar 2023   Prob (F-statistic):                   4.42e-116\n",
      "Time:                        23:11:53   Log-Likelihood:                         -444.42\n",
      "No. Observations:                 250   AIC:                                      894.8\n",
      "Df Residuals:                     247   BIC:                                      905.4\n",
      "Df Model:                           3                                                  \n",
      "Covariance Type:            nonrobust                                                  \n",
      "==============================================================================\n",
      "                 coef    std err          t      P>|t|      [0.025      0.975]\n",
      "------------------------------------------------------------------------------\n",
      "GI             0.3039      0.058      5.224      0.000       0.189       0.419\n",
      "PercSexi       0.0708      0.116      0.611      0.542      -0.157       0.299\n",
      "StiCon         0.4717      0.121      3.889      0.000       0.233       0.711\n",
      "==============================================================================\n",
      "Omnibus:                        1.488   Durbin-Watson:                   2.125\n",
      "Prob(Omnibus):                  0.475   Jarque-Bera (JB):                1.339\n",
      "Skew:                          -0.026   Prob(JB):                        0.512\n",
      "Kurtosis:                       2.645   Cond. No.                         14.5\n",
      "==============================================================================\n",
      "\n",
      "Notes:\n",
      "[1] R² is computed without centering (uncentered) since the model does not contain a constant.\n",
      "[2] Standard Errors assume that the covariance matrix of the errors is correctly specified.\n",
      "                            OLS Regression Results                            \n",
      "==============================================================================\n",
      "Dep. Variable:                    CAI   R-squared:                       0.061\n",
      "Model:                            OLS   Adj. R-squared:                  0.050\n",
      "Method:                 Least Squares   F-statistic:                     5.365\n",
      "Date:                Mon, 27 Mar 2023   Prob (F-statistic):            0.00136\n",
      "Time:                        23:11:53   Log-Likelihood:                -435.99\n",
      "No. Observations:                 250   AIC:                             880.0\n",
      "Df Residuals:                     246   BIC:                             894.1\n",
      "Df Model:                           3                                         \n",
      "Covariance Type:            nonrobust                                         \n",
      "==============================================================================\n",
      "                 coef    std err          t      P>|t|      [0.025      0.975]\n",
      "------------------------------------------------------------------------------\n",
      "const         -1.2784      1.829     -0.699      0.485      -4.881       2.324\n",
      "GI             0.8175      0.365      2.237      0.026       0.098       1.537\n",
      "StiCon         1.0309      0.395      2.607      0.010       0.252       1.810\n",
      "GI_StiCon     -0.1537      0.079     -1.939      0.054      -0.310       0.002\n",
      "==============================================================================\n",
      "Omnibus:                        6.919   Durbin-Watson:                   2.087\n",
      "Prob(Omnibus):                  0.031   Jarque-Bera (JB):                4.007\n",
      "Skew:                          -0.093   Prob(JB):                        0.135\n",
      "Kurtosis:                       2.408   Cond. No.                         521.\n",
      "==============================================================================\n",
      "\n",
      "Notes:\n",
      "[1] Standard Errors assume that the covariance matrix of the errors is correctly specified.\n"
     ]
    }
   ],
   "source": [
    "# Define your independent and dependent variables\n",
    "X = df[['GI', 'PercSexi', 'StiCon']]\n",
    "y = df['CAI']\n",
    "\n",
    "# Build the linear regression model\n",
    "model = sm.OLS(y, X).fit()\n",
    "\n",
    "# Print the summary of the model\n",
    "print(model.summary())\n",
    "\n",
    "# Create the interaction term\n",
    "df['GI_StiCon'] = df['GI'] * df['StiCon']\n",
    "\n",
    "# Test for moderation of StiCon on the relationship between gi and CAI\n",
    "interaction_model = sm.OLS(df['CAI'], sm.add_constant(df[['GI', 'StiCon', 'GI_StiCon']])).fit()\n",
    "print(interaction_model.summary())"
   ]
  }
 ],
 "metadata": {
  "kernelspec": {
   "display_name": ".venv",
   "language": "python",
   "name": "python3"
  },
  "language_info": {
   "codemirror_mode": {
    "name": "ipython",
    "version": 3
   },
   "file_extension": ".py",
   "mimetype": "text/x-python",
   "name": "python",
   "nbconvert_exporter": "python",
   "pygments_lexer": "ipython3",
   "version": "3.11.2"
  },
  "orig_nbformat": 4
 },
 "nbformat": 4,
 "nbformat_minor": 2
}
