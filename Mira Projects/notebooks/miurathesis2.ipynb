{
 "cells": [
  {
   "cell_type": "code",
   "execution_count": 2,
   "metadata": {},
   "outputs": [
    {
     "name": "stdout",
     "output_type": "stream",
     "text": [
      "   CAI1  CAI2  CAI3  CAI4  PER_INJ  CONTENT  STRE  CAI5  CAI6  CAI7  ...  SC1  \\\n",
      "0   6.0   7.0   3.0   2.0      5.0      7.0   2.0   6.0   6.0   6.0  ...  5.0   \n",
      "1   2.0   7.0   1.0   1.0      5.0      5.0   5.0   4.0   4.0   5.0  ...  6.0   \n",
      "2   7.0   7.0   1.0   2.0      6.0      5.0   7.0   6.0   5.0   7.0  ...  6.0   \n",
      "3   7.0   7.0   4.0   4.0      5.0      6.0   6.0   5.0   4.0   5.0  ...  5.0   \n",
      "4   1.0   7.0   1.0   2.0      5.0      6.0   4.0   1.0   1.0   2.0  ...  5.0   \n",
      "\n",
      "   SC2  SC3  SC4  SC5  CAI  StiCon   GI  PercSexi  ster_con  \n",
      "0  4.0  4.0  5.0  4.0  5.4     4.4  4.5       4.0  4.666667  \n",
      "1  6.0  5.0  6.0  5.0  4.0     5.6  5.0       5.0  6.000000  \n",
      "2  7.0  5.0  4.0  7.0  5.3     5.8  6.0       6.0  5.666667  \n",
      "3  5.0  2.0  5.0  5.0  5.1     4.4  6.0       3.5  5.000000  \n",
      "4  2.0  5.0  4.0  3.0  1.9     3.8  5.0       4.0  3.666667  \n",
      "\n",
      "[5 rows x 26 columns]\n",
      "['CAI1', 'CAI2', 'CAI3', 'CAI4', 'PER_INJ', 'CONTENT', 'STRE', 'CAI5', 'CAI6', 'CAI7', 'CAI8', 'CAI9', 'CAI10', 'GENDER', 'AGE', 'NATIO', 'SC1', 'SC2', 'SC3', 'SC4', 'SC5', 'CAI', 'StiCon', 'GI', 'PercSexi', 'ster_con']\n"
     ]
    }
   ],
   "source": [
    "import pandas as pd\n",
    "import statsmodels.api as sm\n",
    "import pyreadstat\n",
    "\n",
    "# Read the .sav file into a Pandas DataFrame\n",
    "df, meta = pyreadstat.read_sav('C:/Users/innac/Desktop/VSCodeDesktop/Mira Projects/data/raw/MiraMaaloufThesis_Dataset.sav')\n",
    "\n",
    "\n",
    "\n",
    "# Print the first few rows of the DataFrame\n",
    "print(df.head())\n",
    "# Print column names as a list\n",
    "print(list(df.columns))\n",
    "\n",
    "df.dropna(inplace=True)"
   ]
  },
  {
   "cell_type": "code",
   "execution_count": 3,
   "metadata": {},
   "outputs": [
    {
     "name": "stdout",
     "output_type": "stream",
     "text": [
      "                                 OLS Regression Results                                \n",
      "=======================================================================================\n",
      "Dep. Variable:                    CAI   R-squared (uncentered):                   0.886\n",
      "Model:                            OLS   Adj. R-squared (uncentered):              0.885\n",
      "Method:                 Least Squares   F-statistic:                              639.3\n",
      "Date:                Wed, 29 Mar 2023   Prob (F-statistic):                   4.42e-116\n",
      "Time:                        10:39:20   Log-Likelihood:                         -444.42\n",
      "No. Observations:                 250   AIC:                                      894.8\n",
      "Df Residuals:                     247   BIC:                                      905.4\n",
      "Df Model:                           3                                                  \n",
      "Covariance Type:            nonrobust                                                  \n",
      "==============================================================================\n",
      "                 coef    std err          t      P>|t|      [0.025      0.975]\n",
      "------------------------------------------------------------------------------\n",
      "GI             0.3039      0.058      5.224      0.000       0.189       0.419\n",
      "PercSexi       0.0708      0.116      0.611      0.542      -0.157       0.299\n",
      "StiCon         0.4717      0.121      3.889      0.000       0.233       0.711\n",
      "==============================================================================\n",
      "Omnibus:                        1.488   Durbin-Watson:                   2.125\n",
      "Prob(Omnibus):                  0.475   Jarque-Bera (JB):                1.339\n",
      "Skew:                          -0.026   Prob(JB):                        0.512\n",
      "Kurtosis:                       2.645   Cond. No.                         14.5\n",
      "==============================================================================\n",
      "\n",
      "Notes:\n",
      "[1] R² is computed without centering (uncentered) since the model does not contain a constant.\n",
      "[2] Standard Errors assume that the covariance matrix of the errors is correctly specified.\n",
      "                            OLS Regression Results                            \n",
      "==============================================================================\n",
      "Dep. Variable:                    CAI   R-squared:                       0.061\n",
      "Model:                            OLS   Adj. R-squared:                  0.050\n",
      "Method:                 Least Squares   F-statistic:                     5.365\n",
      "Date:                Wed, 29 Mar 2023   Prob (F-statistic):            0.00136\n",
      "Time:                        10:39:20   Log-Likelihood:                -435.99\n",
      "No. Observations:                 250   AIC:                             880.0\n",
      "Df Residuals:                     246   BIC:                             894.1\n",
      "Df Model:                           3                                         \n",
      "Covariance Type:            nonrobust                                         \n",
      "==============================================================================\n",
      "                 coef    std err          t      P>|t|      [0.025      0.975]\n",
      "------------------------------------------------------------------------------\n",
      "const         -1.2784      1.829     -0.699      0.485      -4.881       2.324\n",
      "GI             0.8175      0.365      2.237      0.026       0.098       1.537\n",
      "StiCon         1.0309      0.395      2.607      0.010       0.252       1.810\n",
      "GI_StiCon     -0.1537      0.079     -1.939      0.054      -0.310       0.002\n",
      "==============================================================================\n",
      "Omnibus:                        6.919   Durbin-Watson:                   2.087\n",
      "Prob(Omnibus):                  0.031   Jarque-Bera (JB):                4.007\n",
      "Skew:                          -0.093   Prob(JB):                        0.135\n",
      "Kurtosis:                       2.408   Cond. No.                         521.\n",
      "==============================================================================\n",
      "\n",
      "Notes:\n",
      "[1] Standard Errors assume that the covariance matrix of the errors is correctly specified.\n"
     ]
    }
   ],
   "source": [
    "# Define your independent and dependent variables\n",
    "X = df[['GI', 'PercSexi', 'StiCon']]\n",
    "y = df['CAI']\n",
    "\n",
    "# Build the linear regression model\n",
    "model_1 = sm.OLS(y, X).fit()\n",
    "\n",
    "# Print the summary of the model\n",
    "print(model_1.summary())\n",
    "\n",
    "# Create the interaction term\n",
    "df['GI_StiCon'] = df['GI'] * df['StiCon']\n",
    "\n",
    "# Test for moderation of StiCon on the relationship between gi and CAI\n",
    "interaction_model = sm.OLS(df['CAI'], sm.add_constant(df[['GI', 'StiCon', 'GI_StiCon']])).fit()\n",
    "print(interaction_model.summary())"
   ]
  },
  {
   "cell_type": "code",
   "execution_count": null,
   "metadata": {},
   "outputs": [],
   "source": [
    "model_1.save(\"C:/Users/innac/Desktop/VSCodeDesktop/Mira Projects/models/model_1.pickle\") "
   ]
  },
  {
   "cell_type": "code",
   "execution_count": 4,
   "metadata": {},
   "outputs": [
    {
     "name": "stdout",
     "output_type": "stream",
     "text": [
      "                 Generalized Linear Model Regression Results                  \n",
      "==============================================================================\n",
      "Dep. Variable:                    CAI   No. Observations:                  250\n",
      "Model:                            GLM   Df Residuals:                      247\n",
      "Model Family:                Gaussian   Df Model:                            2\n",
      "Link Function:               identity   Scale:                          2.0741\n",
      "Method:                          IRLS   Log-Likelihood:                -444.42\n",
      "Date:                Wed, 29 Mar 2023   Deviance:                       512.31\n",
      "Time:                        10:49:34   Pearson chi2:                     512.\n",
      "No. Iterations:                     3   Pseudo R-squ. (CS):          -0.003965\n",
      "Covariance Type:            nonrobust                                         \n",
      "==============================================================================\n",
      "                 coef    std err          z      P>|z|      [0.025      0.975]\n",
      "------------------------------------------------------------------------------\n",
      "GI             0.3039      0.058      5.224      0.000       0.190       0.418\n",
      "PercSexi       0.0708      0.116      0.611      0.541      -0.156       0.298\n",
      "StiCon         0.4717      0.121      3.889      0.000       0.234       0.709\n",
      "==============================================================================\n",
      "                 Generalized Linear Model Regression Results                  \n",
      "==============================================================================\n",
      "Dep. Variable:                    CAI   No. Observations:                  250\n",
      "Model:                            GLM   Df Residuals:                      246\n",
      "Model Family:                Gaussian   Df Model:                            3\n",
      "Link Function:               identity   Scale:                          1.9467\n",
      "Method:                          IRLS   Log-Likelihood:                -435.99\n",
      "Date:                Wed, 29 Mar 2023   Deviance:                       478.89\n",
      "Time:                        10:49:34   Pearson chi2:                     479.\n",
      "No. Iterations:                     3   Pseudo R-squ. (CS):            0.06247\n",
      "Covariance Type:            nonrobust                                         \n",
      "==============================================================================\n",
      "                 coef    std err          z      P>|z|      [0.025      0.975]\n",
      "------------------------------------------------------------------------------\n",
      "const         -1.2784      1.829     -0.699      0.485      -4.863       2.307\n",
      "GI             0.8175      0.365      2.237      0.025       0.101       1.534\n",
      "StiCon         1.0309      0.395      2.607      0.009       0.256       1.806\n",
      "GI_StiCon     -0.1537      0.079     -1.939      0.052      -0.309       0.002\n",
      "==============================================================================\n"
     ]
    }
   ],
   "source": [
    "# Define your independent and dependent variables\n",
    "X = df[['GI', 'PercSexi', 'StiCon']]\n",
    "y = df['CAI']\n",
    "\n",
    "# Build the linear regression model\n",
    "model_1 = sm.GLM(y, X).fit()\n",
    "\n",
    "# Print the summary of the model\n",
    "print(model_1.summary())\n",
    "\n",
    "# Create the interaction term\n",
    "df['GI_StiCon'] = df['GI'] * df['StiCon']\n",
    "\n",
    "# Test for moderation of StiCon on the relationship between gi and CAI\n",
    "interaction_model = sm.GLM(df['CAI'], sm.add_constant(df[['GI', 'StiCon', 'GI_StiCon']])).fit()\n",
    "print(interaction_model.summary())"
   ]
  },
  {
   "attachments": {},
   "cell_type": "markdown",
   "metadata": {},
   "source": [
    "GLM  "
   ]
  },
  {
   "cell_type": "code",
   "execution_count": 13,
   "metadata": {},
   "outputs": [
    {
     "name": "stdout",
     "output_type": "stream",
     "text": [
      "                 Generalized Linear Model Regression Results                  \n",
      "==============================================================================\n",
      "Dep. Variable:                    CAI   No. Observations:                  250\n",
      "Model:                            GLM   Df Residuals:                      248\n",
      "Model Family:                Binomial   Df Model:                            1\n",
      "Link Function:                  Logit   Scale:                          1.0000\n",
      "Method:                          IRLS   Log-Likelihood:                   -inf\n",
      "Date:                Wed, 29 Mar 2023   Deviance:                       56782.\n",
      "Time:                        11:25:08   Pearson chi2:                 1.24e+19\n",
      "No. Iterations:                     4   Pseudo R-squ. (CS):                nan\n",
      "Covariance Type:            nonrobust                                         \n",
      "==============================================================================\n",
      "                 coef    std err          z      P>|z|      [0.025      0.975]\n",
      "------------------------------------------------------------------------------\n",
      "GI          1.841e+15   2.55e+06   7.22e+08      0.000    1.84e+15    1.84e+15\n",
      "PercSexi    6.043e+15   2.75e+06   2.19e+09      0.000    6.04e+15    6.04e+15\n",
      "==============================================================================\n",
      "                 Generalized Linear Model Regression Results                  \n",
      "==============================================================================\n",
      "Dep. Variable:                    CAI   No. Observations:                  250\n",
      "Model:                            GLM   Df Residuals:                      246\n",
      "Model Family:                Binomial   Df Model:                            3\n",
      "Link Function:                  Logit   Scale:                          1.0000\n",
      "Method:                          IRLS   Log-Likelihood:                   -inf\n",
      "Date:                Wed, 29 Mar 2023   Deviance:                       56782.\n",
      "Time:                        11:25:08   Pearson chi2:                 1.24e+19\n",
      "No. Iterations:                     2   Pseudo R-squ. (CS):                nan\n",
      "Covariance Type:            nonrobust                                         \n",
      "==============================================================================\n",
      "                 coef    std err          z      P>|z|      [0.025      0.975]\n",
      "------------------------------------------------------------------------------\n",
      "const      -1.026e+16    8.8e+07  -1.17e+08      0.000   -1.03e+16   -1.03e+16\n",
      "GI          3.682e+15   1.76e+07   2.09e+08      0.000    3.68e+15    3.68e+15\n",
      "StiCon      4.643e+15    1.9e+07   2.44e+08      0.000    4.64e+15    4.64e+15\n",
      "GI_StiCon  -6.924e+14   3.81e+06  -1.82e+08      0.000   -6.92e+14   -6.92e+14\n",
      "==============================================================================\n"
     ]
    },
    {
     "name": "stderr",
     "output_type": "stream",
     "text": [
      "c:\\Users\\innac\\Desktop\\VSCodeDesktop\\.venv\\Lib\\site-packages\\statsmodels\\genmod\\families\\links.py:187: RuntimeWarning: overflow encountered in exp\n",
      "  t = np.exp(-z)\n",
      "c:\\Users\\innac\\Desktop\\VSCodeDesktop\\.venv\\Lib\\site-packages\\statsmodels\\genmod\\families\\family.py:1014: RuntimeWarning: invalid value encountered in log\n",
      "  special.gammaln(n - y + 1) + y * np.log(mu / (1 - mu + 1e-20)) +\n",
      "c:\\Users\\innac\\Desktop\\VSCodeDesktop\\.venv\\Lib\\site-packages\\statsmodels\\genmod\\families\\family.py:1015: RuntimeWarning: invalid value encountered in log\n",
      "  n * np.log(1 - mu + 1e-20)) * var_weights\n",
      "c:\\Users\\innac\\Desktop\\VSCodeDesktop\\.venv\\Lib\\site-packages\\statsmodels\\genmod\\families\\family.py:1014: RuntimeWarning: invalid value encountered in log\n",
      "  special.gammaln(n - y + 1) + y * np.log(mu / (1 - mu + 1e-20)) +\n",
      "c:\\Users\\innac\\Desktop\\VSCodeDesktop\\.venv\\Lib\\site-packages\\statsmodels\\genmod\\families\\family.py:1015: RuntimeWarning: invalid value encountered in log\n",
      "  n * np.log(1 - mu + 1e-20)) * var_weights\n"
     ]
    }
   ],
   "source": [
    "# Define your independent and dependent variables\n",
    "X = df[['GI', 'PercSexi']]\n",
    "y = df['CAI']\n",
    "\n",
    "# Build the logistic regression model\n",
    "logit_link = sm.families.links.Logit()\n",
    "binom_dist = sm.families.Binomial()\n",
    "model_1 = sm.GLM(y, X, family=binom_dist).fit()\n",
    "\n",
    "\n",
    "# Print the summary of the model\n",
    "print(model_1.summary())\n",
    "\n",
    "# Create the interaction term\n",
    "df['GI_StiCon'] = df['GI'] * df['StiCon']\n",
    "\n",
    "# Test for moderation of StiCon on the relationship between GI and CAI\n",
    "interaction_model = sm.GLM(df['CAI'], sm.add_constant(df[['GI', 'StiCon', 'GI_StiCon']]),\n",
    "                           family=binom_dist).fit()\n",
    "print(interaction_model.summary())"
   ]
  }
 ],
 "metadata": {
  "kernelspec": {
   "display_name": ".venv",
   "language": "python",
   "name": "python3"
  },
  "language_info": {
   "codemirror_mode": {
    "name": "ipython",
    "version": 3
   },
   "file_extension": ".py",
   "mimetype": "text/x-python",
   "name": "python",
   "nbconvert_exporter": "python",
   "pygments_lexer": "ipython3",
   "version": "3.11.2"
  },
  "orig_nbformat": 4
 },
 "nbformat": 4,
 "nbformat_minor": 2
}
