{
 "cells": [
  {
   "cell_type": "code",
   "execution_count": 8,
   "metadata": {},
   "outputs": [
    {
     "name": "stdout",
     "output_type": "stream",
     "text": [
      "   CAI1  CAI2  CAI3  CAI4  PER_INJ  CONTENT  STRE  CAI5  CAI6  CAI7  ...  SC1  \\\n",
      "0   6.0   7.0   3.0   2.0      5.0      7.0   2.0   6.0   6.0   6.0  ...  5.0   \n",
      "1   2.0   7.0   1.0   1.0      5.0      5.0   5.0   4.0   4.0   5.0  ...  6.0   \n",
      "2   7.0   7.0   1.0   2.0      6.0      5.0   7.0   6.0   5.0   7.0  ...  6.0   \n",
      "3   7.0   7.0   4.0   4.0      5.0      6.0   6.0   5.0   4.0   5.0  ...  5.0   \n",
      "4   1.0   7.0   1.0   2.0      5.0      6.0   4.0   1.0   1.0   2.0  ...  5.0   \n",
      "\n",
      "   SC2  SC3  SC4  SC5  CAI  StiCon   GI  PercSexi  ster_con  \n",
      "0  4.0  4.0  5.0  4.0  5.4     4.4  4.5       4.0  4.666667  \n",
      "1  6.0  5.0  6.0  5.0  4.0     5.6  5.0       5.0  6.000000  \n",
      "2  7.0  5.0  4.0  7.0  5.3     5.8  6.0       6.0  5.666667  \n",
      "3  5.0  2.0  5.0  5.0  5.1     4.4  6.0       3.5  5.000000  \n",
      "4  2.0  5.0  4.0  3.0  1.9     3.8  5.0       4.0  3.666667  \n",
      "\n",
      "[5 rows x 26 columns]\n",
      "['CAI1', 'CAI2', 'CAI3', 'CAI4', 'PER_INJ', 'CONTENT', 'STRE', 'CAI5', 'CAI6', 'CAI7', 'CAI8', 'CAI9', 'CAI10', 'GENDER', 'AGE', 'NATIO', 'SC1', 'SC2', 'SC3', 'SC4', 'SC5', 'CAI', 'StiCon', 'GI', 'PercSexi', 'ster_con']\n"
     ]
    }
   ],
   "source": [
    "import pandas as pd\n",
    "import statsmodels.api as sm\n",
    "import pyreadstat\n",
    "\n",
    "# Read the .sav file into a Pandas DataFrame\n",
    "df, meta = pyreadstat.read_sav('C:/Users/innac/Desktop/VSCodeDesktop/Mira Projects/data/raw/MiraMaaloufThesis_Dataset.sav')\n",
    "\n",
    "\n",
    "\n",
    "# Print the first few rows of the DataFrame\n",
    "print(df.head())\n",
    "# Print column names as a list\n",
    "print(list(df.columns))\n",
    "\n",
    "df.dropna(inplace=True)"
   ]
  },
  {
   "cell_type": "code",
   "execution_count": 9,
   "metadata": {},
   "outputs": [
    {
     "name": "stdout",
     "output_type": "stream",
     "text": [
      "                                 OLS Regression Results                                \n",
      "=======================================================================================\n",
      "Dep. Variable:                    CAI   R-squared (uncentered):                   0.886\n",
      "Model:                            OLS   Adj. R-squared (uncentered):              0.885\n",
      "Method:                 Least Squares   F-statistic:                              639.3\n",
      "Date:                Mon, 27 Mar 2023   Prob (F-statistic):                   4.42e-116\n",
      "Time:                        23:06:34   Log-Likelihood:                         -444.42\n",
      "No. Observations:                 250   AIC:                                      894.8\n",
      "Df Residuals:                     247   BIC:                                      905.4\n",
      "Df Model:                           3                                                  \n",
      "Covariance Type:            nonrobust                                                  \n",
      "==============================================================================\n",
      "                 coef    std err          t      P>|t|      [0.025      0.975]\n",
      "------------------------------------------------------------------------------\n",
      "GI             0.3039      0.058      5.224      0.000       0.189       0.419\n",
      "PercSexi       0.0708      0.116      0.611      0.542      -0.157       0.299\n",
      "StiCon         0.4717      0.121      3.889      0.000       0.233       0.711\n",
      "==============================================================================\n",
      "Omnibus:                        1.488   Durbin-Watson:                   2.125\n",
      "Prob(Omnibus):                  0.475   Jarque-Bera (JB):                1.339\n",
      "Skew:                          -0.026   Prob(JB):                        0.512\n",
      "Kurtosis:                       2.645   Cond. No.                         14.5\n",
      "==============================================================================\n",
      "\n",
      "Notes:\n",
      "[1] R² is computed without centering (uncentered) since the model does not contain a constant.\n",
      "[2] Standard Errors assume that the covariance matrix of the errors is correctly specified.\n",
      "                            OLS Regression Results                            \n",
      "==============================================================================\n",
      "Dep. Variable:                    CAI   R-squared:                       0.033\n",
      "Model:                            OLS   Adj. R-squared:                  0.025\n",
      "Method:                 Least Squares   F-statistic:                     4.250\n",
      "Date:                Mon, 27 Mar 2023   Prob (F-statistic):             0.0153\n",
      "Time:                        23:06:34   Log-Likelihood:                -439.68\n",
      "No. Observations:                 250   AIC:                             885.4\n",
      "Df Residuals:                     247   BIC:                             895.9\n",
      "Df Model:                           2                                         \n",
      "Covariance Type:            nonrobust                                         \n",
      "==============================================================================\n",
      "                 coef    std err          t      P>|t|      [0.025      0.975]\n",
      "------------------------------------------------------------------------------\n",
      "const          2.5720      0.512      5.026      0.000       1.564       3.580\n",
      "GI             0.1122      0.076      1.482      0.140      -0.037       0.261\n",
      "PercSexi       0.1941      0.078      2.478      0.014       0.040       0.348\n",
      "==============================================================================\n",
      "Omnibus:                       10.726   Durbin-Watson:                   2.049\n",
      "Prob(Omnibus):                  0.005   Jarque-Bera (JB):                5.000\n",
      "Skew:                          -0.033   Prob(JB):                       0.0821\n",
      "Kurtosis:                       2.310   Cond. No.                         39.3\n",
      "==============================================================================\n",
      "\n",
      "Notes:\n",
      "[1] Standard Errors assume that the covariance matrix of the errors is correctly specified.\n"
     ]
    },
    {
     "ename": "KeyError",
     "evalue": "\"['gi:StiCon'] not in index\"",
     "output_type": "error",
     "traceback": [
      "\u001b[1;31m---------------------------------------------------------------------------\u001b[0m",
      "\u001b[1;31mKeyError\u001b[0m                                  Traceback (most recent call last)",
      "Cell \u001b[1;32mIn[9], line 16\u001b[0m\n\u001b[0;32m     13\u001b[0m \u001b[39mprint\u001b[39m(mediation_model\u001b[39m.\u001b[39msummary())\n\u001b[0;32m     15\u001b[0m \u001b[39m# Test for moderation of StiCon on the relationship between gi and CAI\u001b[39;00m\n\u001b[1;32m---> 16\u001b[0m interaction_model \u001b[39m=\u001b[39m sm\u001b[39m.\u001b[39mOLS(df[\u001b[39m'\u001b[39m\u001b[39mCAI\u001b[39m\u001b[39m'\u001b[39m], sm\u001b[39m.\u001b[39madd_constant(df[[\u001b[39m'\u001b[39;49m\u001b[39mGI\u001b[39;49m\u001b[39m'\u001b[39;49m, \u001b[39m'\u001b[39;49m\u001b[39mStiCon\u001b[39;49m\u001b[39m'\u001b[39;49m, \u001b[39m'\u001b[39;49m\u001b[39mgi:StiCon\u001b[39;49m\u001b[39m'\u001b[39;49m]]))\u001b[39m.\u001b[39mfit()\n\u001b[0;32m     17\u001b[0m \u001b[39mprint\u001b[39m(interaction_model\u001b[39m.\u001b[39msummary())\n",
      "File \u001b[1;32mc:\\Users\\innac\\Desktop\\VSCodeDesktop\\.venv\\Lib\\site-packages\\pandas\\core\\frame.py:3813\u001b[0m, in \u001b[0;36mDataFrame.__getitem__\u001b[1;34m(self, key)\u001b[0m\n\u001b[0;32m   3811\u001b[0m     \u001b[39mif\u001b[39;00m is_iterator(key):\n\u001b[0;32m   3812\u001b[0m         key \u001b[39m=\u001b[39m \u001b[39mlist\u001b[39m(key)\n\u001b[1;32m-> 3813\u001b[0m     indexer \u001b[39m=\u001b[39m \u001b[39mself\u001b[39;49m\u001b[39m.\u001b[39;49mcolumns\u001b[39m.\u001b[39;49m_get_indexer_strict(key, \u001b[39m\"\u001b[39;49m\u001b[39mcolumns\u001b[39;49m\u001b[39m\"\u001b[39;49m)[\u001b[39m1\u001b[39m]\n\u001b[0;32m   3815\u001b[0m \u001b[39m# take() does not accept boolean indexers\u001b[39;00m\n\u001b[0;32m   3816\u001b[0m \u001b[39mif\u001b[39;00m \u001b[39mgetattr\u001b[39m(indexer, \u001b[39m\"\u001b[39m\u001b[39mdtype\u001b[39m\u001b[39m\"\u001b[39m, \u001b[39mNone\u001b[39;00m) \u001b[39m==\u001b[39m \u001b[39mbool\u001b[39m:\n",
      "File \u001b[1;32mc:\\Users\\innac\\Desktop\\VSCodeDesktop\\.venv\\Lib\\site-packages\\pandas\\core\\indexes\\base.py:6070\u001b[0m, in \u001b[0;36mIndex._get_indexer_strict\u001b[1;34m(self, key, axis_name)\u001b[0m\n\u001b[0;32m   6067\u001b[0m \u001b[39melse\u001b[39;00m:\n\u001b[0;32m   6068\u001b[0m     keyarr, indexer, new_indexer \u001b[39m=\u001b[39m \u001b[39mself\u001b[39m\u001b[39m.\u001b[39m_reindex_non_unique(keyarr)\n\u001b[1;32m-> 6070\u001b[0m \u001b[39mself\u001b[39;49m\u001b[39m.\u001b[39;49m_raise_if_missing(keyarr, indexer, axis_name)\n\u001b[0;32m   6072\u001b[0m keyarr \u001b[39m=\u001b[39m \u001b[39mself\u001b[39m\u001b[39m.\u001b[39mtake(indexer)\n\u001b[0;32m   6073\u001b[0m \u001b[39mif\u001b[39;00m \u001b[39misinstance\u001b[39m(key, Index):\n\u001b[0;32m   6074\u001b[0m     \u001b[39m# GH 42790 - Preserve name from an Index\u001b[39;00m\n",
      "File \u001b[1;32mc:\\Users\\innac\\Desktop\\VSCodeDesktop\\.venv\\Lib\\site-packages\\pandas\\core\\indexes\\base.py:6133\u001b[0m, in \u001b[0;36mIndex._raise_if_missing\u001b[1;34m(self, key, indexer, axis_name)\u001b[0m\n\u001b[0;32m   6130\u001b[0m     \u001b[39mraise\u001b[39;00m \u001b[39mKeyError\u001b[39;00m(\u001b[39mf\u001b[39m\u001b[39m\"\u001b[39m\u001b[39mNone of [\u001b[39m\u001b[39m{\u001b[39;00mkey\u001b[39m}\u001b[39;00m\u001b[39m] are in the [\u001b[39m\u001b[39m{\u001b[39;00maxis_name\u001b[39m}\u001b[39;00m\u001b[39m]\u001b[39m\u001b[39m\"\u001b[39m)\n\u001b[0;32m   6132\u001b[0m not_found \u001b[39m=\u001b[39m \u001b[39mlist\u001b[39m(ensure_index(key)[missing_mask\u001b[39m.\u001b[39mnonzero()[\u001b[39m0\u001b[39m]]\u001b[39m.\u001b[39munique())\n\u001b[1;32m-> 6133\u001b[0m \u001b[39mraise\u001b[39;00m \u001b[39mKeyError\u001b[39;00m(\u001b[39mf\u001b[39m\u001b[39m\"\u001b[39m\u001b[39m{\u001b[39;00mnot_found\u001b[39m}\u001b[39;00m\u001b[39m not in index\u001b[39m\u001b[39m\"\u001b[39m)\n",
      "\u001b[1;31mKeyError\u001b[0m: \"['gi:StiCon'] not in index\""
     ]
    }
   ],
   "source": [
    "# Define your independent and dependent variables\n",
    "X = df[['GI', 'PercSexi', 'StiCon']]\n",
    "y = df['CAI']\n",
    "\n",
    "# Build the linear regression model\n",
    "model = sm.OLS(y, X).fit()\n",
    "\n",
    "# Print the summary of the model\n",
    "print(model.summary())\n",
    "\n",
    "# Test for mediation of PercSexi on the relationship between gi and CAI\n",
    "mediation_model = sm.OLS(df['CAI'], sm.add_constant(df[['GI', 'PercSexi']])).fit()\n",
    "print(mediation_model.summary())\n",
    "\n",
    "# Test for moderation of StiCon on the relationship between gi and CAI\n",
    "interaction_model = sm.OLS(df['CAI'], sm.add_constant(df[['GI', 'StiCon', 'gi:StiCon']])).fit()\n",
    "print(interaction_model.summary())"
   ]
  }
 ],
 "metadata": {
  "kernelspec": {
   "display_name": ".venv",
   "language": "python",
   "name": "python3"
  },
  "language_info": {
   "codemirror_mode": {
    "name": "ipython",
    "version": 3
   },
   "file_extension": ".py",
   "mimetype": "text/x-python",
   "name": "python",
   "nbconvert_exporter": "python",
   "pygments_lexer": "ipython3",
   "version": "3.11.2"
  },
  "orig_nbformat": 4
 },
 "nbformat": 4,
 "nbformat_minor": 2
}
